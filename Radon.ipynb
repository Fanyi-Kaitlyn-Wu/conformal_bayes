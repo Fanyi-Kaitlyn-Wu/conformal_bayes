{
 "cells": [
  {
   "cell_type": "code",
   "execution_count": 3,
   "metadata": {},
   "outputs": [],
   "source": [
    "import time\n",
    "import numpy as np\n",
    "from tqdm import tqdm\n",
    "import pandas as pd\n",
    "import scipy as sp\n",
    "from theano import tensor as tt\n",
    "import pymc3 as pm\n",
    "import matplotlib.pyplot as plt\n",
    "\n",
    "import jax.numpy as jnp\n",
    "from jax import jit\n",
    "from jax.scipy.stats import norm\n",
    "\n",
    "from run_scripts.load_data import load_traintest_hier\n",
    "from conformal_bayes import conformal_Bayes_functions as cb\n",
    "from conformal_bayes import Bayes_MCMC_functions as bmcmc\n",
    "\n",
    "%reload_ext autoreload\n",
    "%autoreload 2"
   ]
  },
  {
   "cell_type": "markdown",
   "metadata": {},
   "source": [
    "# Load Data "
   ]
  },
  {
   "cell_type": "code",
   "execution_count": 47,
   "metadata": {},
   "outputs": [
    {
     "name": "stdout",
     "output_type": "stream",
     "text": [
      "85\n"
     ]
    }
   ],
   "source": [
    "x,y,x_test,y_test,y_plot,n,d = load_traintest_hier(1,\"radon\",100)\n",
    "K = np.shape(np.unique(x[:,1]))[0]\n",
    "print(K)"
   ]
  },
  {
   "cell_type": "markdown",
   "metadata": {},
   "source": [
    "# Conformal"
   ]
  },
  {
   "cell_type": "code",
   "execution_count": 49,
   "metadata": {},
   "outputs": [
    {
     "name": "stderr",
     "output_type": "stream",
     "text": [
      "WARNING:absl:No GPU/TPU found, falling back to CPU. (Set TF_CPP_MIN_LOG_LEVEL=0 and rerun for more info.)\n"
     ]
    }
   ],
   "source": [
    "beta_post = jnp.array(np.load(\"samples/beta_post_hier_{}.npy\".format('radon')))[0]\n",
    "intercept_post = jnp.array(np.load(\"samples/intercept_post_hier_{}.npy\".format('radon')))[0]\n",
    "sigma_post = jnp.array(np.load(\"samples/sigma_post_hier_{}.npy\".format('radon')))[0]"
   ]
  },
  {
   "cell_type": "markdown",
   "metadata": {},
   "source": [
    "### Define x_test  "
   ]
  },
  {
   "cell_type": "code",
   "execution_count": 126,
   "metadata": {},
   "outputs": [],
   "source": [
    "x_test = np.zeros((2*K,2))\n",
    "for k in range(K):\n",
    "    x_test[2*k:2*k + 2,1] = k\n",
    "    x_test[2*k,0] = 0\n",
    "    x_test[2*k+1,0]= 1\n",
    "\n",
    "n_test = np.shape(x_test)[0]\n",
    "\n",
    "pi_cb = np.zeros((n_test,np.shape(y_plot)[0]))\n",
    "region_cb = np.zeros((n_test,np.shape(y_plot)[0]))\n",
    "length_cb = np.zeros(n_test)\n",
    "band_bayes = np.zeros((n_test,2))\n",
    "length_bayes = np.zeros(n_test)\n",
    "\n",
    "dy = y_plot[1]- y_plot[0]"
   ]
  },
  {
   "cell_type": "markdown",
   "metadata": {},
   "source": [
    "### Compute rank plots"
   ]
  },
  {
   "cell_type": "code",
   "execution_count": 174,
   "metadata": {},
   "outputs": [
    {
     "name": "stdout",
     "output_type": "stream",
     "text": [
      "[0.22       0.02075472 0.275      0.1375     0.22       0.275\n",
      " 0.07333333 0.22       0.1        0.15714286 0.18333333 0.22\n",
      " 0.15714286 0.07333333 0.22       0.36666667 0.22       0.08461538\n",
      " 0.0171875  0.275      0.11       0.15714286 0.36666667 0.11\n",
      " 0.07333333 0.01037736 0.15714286 0.18333333 0.275      0.09166667\n",
      " 0.18333333 0.22       0.22       0.275      0.1375     0.36666667\n",
      " 0.11       0.22       0.18333333 0.22       0.12222222 0.55\n",
      " 0.11       0.1375     0.07857143 0.18333333 0.36666667 0.11\n",
      " 0.07857143 0.55       0.22       0.275      0.275      0.04583333\n",
      " 0.12222222 0.275      0.15714286 0.22       0.22       0.36666667\n",
      " 0.03333333 0.18333333 0.275      0.09166667 0.36666667 0.07333333\n",
      " 0.07857143 0.12222222 0.22       0.00940171 0.04230769 0.1\n",
      " 0.36666667 0.22       0.275      0.22       0.1375     0.18333333\n",
      " 0.22       0.02340426 0.275      0.55       0.07857143 0.07857143\n",
      " 0.36666667]\n"
     ]
    }
   ],
   "source": [
    "groups_train = np.unique(x[:,1]).astype('int')\n",
    "K_train = np.size(groups_train)\n",
    "n_groups = np.zeros(K_train)\n",
    "\n",
    "for k in (range(K_train)):\n",
    "    ind_group = (x[:,1] == groups_train[k])\n",
    "    n_groups[k] =np.sum(ind_group)\n",
    "    \n",
    "alpha_k = 1.1*(1/(n_groups + 1))\n",
    "print(alpha_k)"
   ]
  },
  {
   "cell_type": "code",
   "execution_count": 175,
   "metadata": {
    "scrolled": true
   },
   "outputs": [
    {
     "name": "stderr",
     "output_type": "stream",
     "text": [
      "100%|██████████| 170/170 [00:01<00:00, 142.49it/s]\n"
     ]
    },
    {
     "name": "stdout",
     "output_type": "stream",
     "text": [
      "Bayes took 1.3957951068878174\n"
     ]
    },
    {
     "name": "stderr",
     "output_type": "stream",
     "text": [
      "100%|██████████| 170/170 [00:02<00:00, 56.89it/s]"
     ]
    },
    {
     "name": "stdout",
     "output_type": "stream",
     "text": [
      "Conformal took 5.03538703918457\n"
     ]
    },
    {
     "name": "stderr",
     "output_type": "stream",
     "text": [
      "\n"
     ]
    }
   ],
   "source": [
    "#Define likelihood from posterior samples\n",
    "start = time.time()\n",
    "@jit\n",
    "def normal_likelihood_cdf(y,x):\n",
    "    group = x[:,-1].astype('int32') \n",
    "    x_0 = x[:,0] \n",
    "    return norm.cdf(y,loc = beta_post[:,group] * x_0.transpose()+ intercept_post[:,group]\\\n",
    "                    ,scale = sigma_post) #compute likelihood samples\n",
    "#Precompute cdfs\n",
    "cdf_test =  normal_likelihood_cdf(y_plot.reshape(-1,1,1),x_test)\n",
    "\n",
    "#Compute conformal regions\n",
    "for i in tqdm(range(n_test)):\n",
    "    group_ind = x_test[i,1].astype('int')\n",
    "    \n",
    "    band_bayes[i] = bmcmc.compute_bayes_band_MCMC(alpha_k[group_ind],y_plot,cdf_test[:,:,i])\n",
    "    length_bayes[i] = np.abs(band_bayes[i,1]- band_bayes[i,0]) \n",
    "end = time.time()\n",
    "print('Bayes took {}'.format(end - start))\n",
    "   \n",
    "start = time.time()\n",
    "@jit\n",
    "def normal_loglikelihood(y,x):\n",
    "    group = x[:,-1].astype('int32') \n",
    "    x_0 = x[:,0] \n",
    "    return norm.logpdf(y,loc = beta_post[:,group]* x_0.transpose() + intercept_post[:,group]\\\n",
    "                       ,scale = sigma_post) #compute likelihood samples\n",
    "\n",
    "#Compute loglikelihood across groups\n",
    "logp_samp_n = []\n",
    "\n",
    "for k in (range(K_train)):\n",
    "    ind_group = (x[:,1] == groups_train[k])\n",
    "    logp_samp_n.append(normal_loglikelihood(y[ind_group],x[ind_group]))\n",
    "\n",
    "logwjk = normal_loglikelihood(y_plot.reshape(-1,1,1),x_test)\n",
    "\n",
    "#Compute conformal regions\n",
    "for i in tqdm(range(n_test)):\n",
    "    group_ind = x_test[i,1].astype('int') \n",
    "    pi_cb[i] = cb.compute_rank_IS(logp_samp_n[group_ind],logwjk[:,:,i])\n",
    "    region_cb[i] = cb.compute_cb_region_IS(alpha_k[group_ind],logp_samp_n[group_ind],logwjk[:,:,i])\n",
    "    length_cb[i] = np.sum(region_cb[i])*dy\n",
    "end = time.time()\n",
    "print('Conformal took {}'.format(end-start))"
   ]
  },
  {
   "cell_type": "code",
   "execution_count": 176,
   "metadata": {},
   "outputs": [],
   "source": [
    "length_bayes_grp = np.zeros(K_train)\n",
    "length_cb_grp = np.zeros(K_train)\n",
    "for k in range(K_train):\n",
    "    length_bayes_grp[k] = np.mean(length_bayes[2*k:2*k+2])\n",
    "    length_cb_grp[k] = np.mean(length_cb[2*k:2*k+2])"
   ]
  },
  {
   "cell_type": "code",
   "execution_count": 177,
   "metadata": {
    "scrolled": true
   },
   "outputs": [
    {
     "name": "stdout",
     "output_type": "stream",
     "text": [
      "2.1739750038175023\n",
      "2.6609625668449177\n"
     ]
    }
   ],
   "source": [
    "print(np.mean(length_bayes_grp))\n",
    "print(np.mean(length_cb_grp))"
   ]
  },
  {
   "cell_type": "markdown",
   "metadata": {},
   "source": [
    "### Analyze rank plots"
   ]
  },
  {
   "cell_type": "code",
   "execution_count": 97,
   "metadata": {},
   "outputs": [
    {
     "data": {
      "text/plain": [
       "(array([41, 49, 81]),)"
      ]
     },
     "execution_count": 97,
     "metadata": {},
     "output_type": "execute_result"
    }
   ],
   "source": [
    "np.where(n_groups ==1)"
   ]
  },
  {
   "cell_type": "code",
   "execution_count": 178,
   "metadata": {
    "scrolled": false
   },
   "outputs": [
    {
     "data": {
      "image/png": "[encoded data removed]",
      "text/plain": [
       "<Figure size 864x216 with 2 Axes>"
      ]
     },
     "metadata": {
      "needs_background": "light"
     },
     "output_type": "display_data"
    }
   ],
   "source": [
    "f = plt.figure(figsize = (12,3))\n",
    "plt.subplot(1,2,1)\n",
    "k = 0\n",
    "i = 2*k\n",
    "county = x_test[i,1].astype('int')\n",
    "n_k = n_groups[county].astype('int')\n",
    "plt.plot(y_plot,pi_cb[i]/(n_k+1),label = r'$x ={}$'.format(x_test[i,0].astype('int')))\n",
    "\n",
    "county = x_test[i+1,1].astype('int')\n",
    "n_k = n_groups[county].astype('int')\n",
    "plt.plot(y_plot,pi_cb[i+1]/(n_k+1),label = r'$x ={}$'.format(x_test[i+1,0].astype('int')))\n",
    "plt.xlabel('$y$',fontsize = 12)\n",
    "plt.ylabel(r'$\\pi_j(y)$')\n",
    "plt.ylim(-0.05,1.1)\n",
    "plt.title('County {}: $n_j = {}$'.format(county,n_k))\n",
    "plt.legend()\n",
    "\n",
    "plt.subplot(1,2,2)\n",
    "k = 1\n",
    "i = 2*k\n",
    "county = x_test[i,1].astype('int')\n",
    "n_k = n_groups[county].astype('int')\n",
    "plt.plot(y_plot,pi_cb[i]/(n_k+1),label = r'$x ={}$'.format(x_test[i,0].astype('int')))\n",
    "\n",
    "county = x_test[i+1,1].astype('int')\n",
    "n_k = n_groups[county].astype('int')\n",
    "plt.plot(y_plot,pi_cb[i+1]/(n_k+1),label = r'$x ={}$'.format(x_test[i+1,0].astype('int')))\n",
    "plt.xlabel('$y$',fontsize = 12)\n",
    "plt.ylabel(r'$\\pi_j(y)$')\n",
    "plt.ylim(-0.05,1.1)\n",
    "plt.title('County {}: $n_j = {}$'.format(county,n_k))\n",
    "f.savefig('plots/radon_big.pdf', bbox_inches='tight')"
   ]
  },
  {
   "cell_type": "code",
   "execution_count": 179,
   "metadata": {},
   "outputs": [
    {
     "data": {
      "image/png": "[encoded data removed]",
      "text/plain": [
       "<Figure size 864x216 with 2 Axes>"
      ]
     },
     "metadata": {
      "needs_background": "light"
     },
     "output_type": "display_data"
    }
   ],
   "source": [
    "f = plt.figure(figsize = (12,3))\n",
    "plt.subplot(1,2,1)\n",
    "k = 41\n",
    "i = 2*k\n",
    "county = x_test[i,1].astype('int')\n",
    "n_k = n_groups[county].astype('int')\n",
    "plt.plot(y_plot,pi_cb[i]/(n_k+1),label = r'$x ={}$'.format(x_test[i,0].astype('int')))\n",
    "\n",
    "county = x_test[i+1,1].astype('int')\n",
    "n_k = n_groups[county].astype('int')\n",
    "plt.plot(y_plot,pi_cb[i+1]/(n_k+1),label = r'$x ={}$'.format(x_test[i+1,0].astype('int')))\n",
    "plt.xlabel('$y$',fontsize = 12)\n",
    "plt.ylabel(r'$\\pi_j(y)$')\n",
    "plt.ylim(-0.05,1.1)\n",
    "plt.title('County {}: $n_j = {}$'.format(county,n_k))\n",
    "plt.legend()\n",
    "\n",
    "plt.subplot(1,2,2)\n",
    "k = 49\n",
    "i = 2*k\n",
    "county = x_test[i,1].astype('int')\n",
    "n_k = n_groups[county].astype('int')\n",
    "plt.plot(y_plot,pi_cb[i]/(n_k+1),label = r'$x ={}$'.format(x_test[i,0].astype('int')))\n",
    "\n",
    "county = x_test[i+1,1].astype('int')\n",
    "n_k = n_groups[county].astype('int')\n",
    "plt.plot(y_plot,pi_cb[i+1]/(n_k+1),label = r'$x ={}$'.format(x_test[i+1,0].astype('int')))\n",
    "plt.xlabel('$y$',fontsize = 12)\n",
    "plt.ylabel(r'$\\pi_j(y)$')\n",
    "plt.ylim(-0.05,1.1)\n",
    "plt.title('County {}: $n_j = {}$'.format(county,n_k))\n",
    "f.savefig('plots/radon_small.pdf', bbox_inches='tight')"
   ]
  },
  {
   "cell_type": "markdown",
   "metadata": {},
   "source": [
    "### LMER"
   ]
  },
  {
   "cell_type": "code",
   "execution_count": 44,
   "metadata": {
    "scrolled": true
   },
   "outputs": [
    {
     "name": "stdout",
     "output_type": "stream",
     "text": [
      "CPU times: user 1.52 s, sys: 250 ms, total: 1.77 s\n",
      "Wall time: 301 ms\n",
      "           Mixed Linear Model Regression Results\n",
      "============================================================\n",
      "Model:              MixedLM  Dependent Variable:  log_radon \n",
      "No. Observations:   919      Method:              REML      \n",
      "No. Groups:         85       Scale:               0.5138    \n",
      "Min. group size:    1        Log-Likelihood:      -1047.2140\n",
      "Max. group size:    116      Converged:           Yes       \n",
      "Mean group size:    10.8                                    \n",
      "------------------------------------------------------------\n",
      "                  Coef.  Std.Err.   z    P>|z| [0.025 0.975]\n",
      "------------------------------------------------------------\n",
      "Intercept          1.495    0.052 28.576 0.000  1.392  1.597\n",
      "floor             -0.655    0.086 -7.650 0.000 -0.823 -0.487\n",
      "Group Var          0.114    0.047                           \n",
      "Group x floor Cov -0.041    0.055                           \n",
      "floor Var          0.108    0.115                           \n",
      "============================================================\n",
      "\n"
     ]
    }
   ],
   "source": [
    "import statsmodels.formula.api as smf\n",
    "d = {'log_radon': y, 'floor': x[:,0],'county':x[:,1]}\n",
    "data = pd.DataFrame(data=d)\n",
    "\n",
    "md = smf.mixedlm(\"log_radon ~ floor\", data, groups=data[\"county\"], re_formula=\"~floor\")\n",
    "%time mdf = md.fit(method=[\"lbfgs\"])\n",
    "print(mdf.summary())"
   ]
  }
 ],
 "metadata": {
  "kernelspec": {
   "display_name": "Python 3",
   "language": "python",
   "name": "python3"
  },
  "language_info": {
   "codemirror_mode": {
    "name": "ipython",
    "version": 3
   },
   "file_extension": ".py",
   "mimetype": "text/x-python",
   "name": "python",
   "nbconvert_exporter": "python",
   "pygments_lexer": "ipython3",
   "version": "3.7.0"
  }
 },
 "nbformat": 4,
 "nbformat_minor": 2
}
